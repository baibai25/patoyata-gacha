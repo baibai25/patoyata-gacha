{
  "nbformat": 4,
  "nbformat_minor": 0,
  "metadata": {
    "colab": {
      "name": "patoyata_gacha.ipynb",
      "provenance": [],
      "collapsed_sections": [],
      "authorship_tag": "ABX9TyPMMJ+PJHboHO4XgOAvJnKn",
      "include_colab_link": true
    },
    "kernelspec": {
      "name": "python3",
      "display_name": "Python 3"
    },
    "language_info": {
      "name": "python"
    }
  },
  "cells": [
    {
      "cell_type": "markdown",
      "metadata": {
        "id": "view-in-github",
        "colab_type": "text"
      },
      "source": [
        "<a href=\"https://colab.research.google.com/github/baibai25/patoyata-gacha/blob/main/patoyata_gacha.ipynb\" target=\"_parent\"><img src=\"https://colab.research.google.com/assets/colab-badge.svg\" alt=\"Open In Colab\"/></a>"
      ]
    },
    {
      "cell_type": "code",
      "execution_count": 1,
      "metadata": {
        "id": "upp5CuQak35o"
      },
      "outputs": [],
      "source": [
        "import numpy as np\n",
        "import pandas as pd\n",
        "import seaborn as sns\n",
        "from collections import Counter\n",
        "import urllib\n",
        "from PIL import Image\n",
        "import matplotlib.pyplot as plt\n",
        "import re"
      ]
    },
    {
      "cell_type": "markdown",
      "source": [
        "## gacha ratio simulation"
      ],
      "metadata": {
        "id": "MSCOdJTKlQZk"
      }
    },
    {
      "cell_type": "code",
      "source": [
        "np.random.seed()"
      ],
      "metadata": {
        "id": "319_-Nm6lEzu"
      },
      "execution_count": 2,
      "outputs": []
    },
    {
      "cell_type": "code",
      "source": [
        "rare = ['SSR', 'SR', 'R']\n",
        "# proba = [0.03, 0.18, 0.79]\n",
        "proba = [0.01, 0.09, 0.90]\n",
        "sample_size = 10000"
      ],
      "metadata": {
        "id": "wJxw6HgsluQ3"
      },
      "execution_count": 3,
      "outputs": []
    },
    {
      "cell_type": "code",
      "source": [
        "test_result = np.random.choice(a=rare, size=sample_size, p=proba)"
      ],
      "metadata": {
        "id": "4BwvztMmnG3Q"
      },
      "execution_count": 4,
      "outputs": []
    },
    {
      "cell_type": "code",
      "source": [
        "cnt = Counter(test_result)\n",
        "print(cnt)\n",
        "print(np.array(list(cnt.values())))\n",
        "print(100 * np.array(list(cnt.values())) / sample_size)"
      ],
      "metadata": {
        "colab": {
          "base_uri": "https://localhost:8080/"
        },
        "id": "nCl6B-2enIBX",
        "outputId": "22c75ab7-827f-4288-dd20-93ee4dbaa6bd"
      },
      "execution_count": 5,
      "outputs": [
        {
          "output_type": "stream",
          "name": "stdout",
          "text": [
            "Counter({'R': 9016, 'SR': 877, 'SSR': 107})\n",
            "[9016  877  107]\n",
            "[90.16  8.77  1.07]\n"
          ]
        }
      ]
    },
    {
      "cell_type": "code",
      "source": [
        "sns.countplot(test_result)"
      ],
      "metadata": {
        "colab": {
          "base_uri": "https://localhost:8080/",
          "height": 339
        },
        "id": "30KHK8p1uZR-",
        "outputId": "ca707288-ac11-4650-aeb0-990165492e50"
      },
      "execution_count": 6,
      "outputs": [
        {
          "output_type": "stream",
          "name": "stderr",
          "text": [
            "/usr/local/lib/python3.7/dist-packages/seaborn/_decorators.py:43: FutureWarning: Pass the following variable as a keyword arg: x. From version 0.12, the only valid positional argument will be `data`, and passing other arguments without an explicit keyword will result in an error or misinterpretation.\n",
            "  FutureWarning\n"
          ]
        },
        {
          "output_type": "execute_result",
          "data": {
            "text/plain": [
              "<matplotlib.axes._subplots.AxesSubplot at 0x7f3c65b86e90>"
            ]
          },
          "metadata": {},
          "execution_count": 6
        },
        {
          "output_type": "display_data",
          "data": {
            "image/png": "[encoded data removed]",
            "text/plain": [
              "<Figure size 432x288 with 1 Axes>"
            ]
          },
          "metadata": {
            "needs_background": "light"
          }
        }
      ]
    },
    {
      "cell_type": "markdown",
      "source": [
        "## dataset"
      ],
      "metadata": {
        "id": "K_XbenlaqhSL"
      }
    },
    {
      "cell_type": "code",
      "source": [
        "from google.colab import auth\n",
        "auth.authenticate_user()\n",
        "\n",
        "import gspread\n",
        "from oauth2client.client import GoogleCredentials"
      ],
      "metadata": {
        "id": "KcH8YtT1qgpl"
      },
      "execution_count": 7,
      "outputs": []
    },
    {
      "cell_type": "code",
      "source": [
        "gc = gspread.authorize(GoogleCredentials.get_application_default())\n",
        "worksheet = gc.open_by_url('https://docs.google.com/spreadsheets/d/1nx47RQNXMtTrE3ntYsV9xtRsESGDmkO3pkWFbjKj3IM/edit#gid=0').sheet1"
      ],
      "metadata": {
        "id": "Cc5A55-sr-_O"
      },
      "execution_count": 8,
      "outputs": []
    },
    {
      "cell_type": "code",
      "source": [
        "df = pd.DataFrame(worksheet.get_all_values())\n",
        "df.columns = list(df.loc[0, :])\n",
        "df.drop(0, inplace=True)\n",
        "df.reset_index(inplace=True)\n",
        "df.drop('index', axis=1, inplace=True)"
      ],
      "metadata": {
        "id": "vmgU-tCWsXz2"
      },
      "execution_count": 9,
      "outputs": []
    },
    {
      "cell_type": "code",
      "source": [
        "tmp = []\n",
        "for url in df['share_url']:\n",
        "  if url == '':\n",
        "    tmp.append('')\n",
        "  else:\n",
        "    id = re.search( r'(?<=d/).*(?=\\/)', url)[0]\n",
        "    tmp.append(f'https://drive.google.com/uc?export=view&id={id}')\n",
        "\n",
        "df['url'] = tmp\n",
        "df.drop('share_url', axis=1, inplace=True)\n",
        "del tmp"
      ],
      "metadata": {
        "id": "2zw-2zo5q3nf"
      },
      "execution_count": 10,
      "outputs": []
    },
    {
      "cell_type": "code",
      "source": [
        "# get all images\n",
        "# 複数回実行すると403でるので注意\n",
        "image_list = []\n",
        "for index, url in enumerate(df['url']):\n",
        "  img = Image.open(urllib.request.urlopen(url))\n",
        "  image_list.append([index, img.resize((124, 124))])"
      ],
      "metadata": {
        "id": "SIW7igOllCJa"
      },
      "execution_count": 11,
      "outputs": []
    },
    {
      "cell_type": "markdown",
      "source": [
        "## キャラ一覧"
      ],
      "metadata": {
        "id": "JW2SN1XDByPk"
      }
    },
    {
      "cell_type": "code",
      "source": [
        "# df[['rare', 'name']]\n",
        "df"
      ],
      "metadata": {
        "colab": {
          "base_uri": "https://localhost:8080/",
          "height": 958
        },
        "id": "jNJzyadIB66p",
        "outputId": "950d5e27-430a-4e8d-a26a-946a26930093"
      },
      "execution_count": null,
      "outputs": [
        {
          "output_type": "execute_result",
          "data": {
            "text/html": [
              "\n",
              "  <div id=\"df-248eaa26-31f5-4d8e-a307-5075bc026254\">\n",
              "    <div class=\"colab-df-container\">\n",
              "      <div>\n",
              "<style scoped>\n",
              "    .dataframe tbody tr th:only-of-type {\n",
              "        vertical-align: middle;\n",
              "    }\n",
              "\n",
              "    .dataframe tbody tr th {\n",
              "        vertical-align: top;\n",
              "    }\n",
              "\n",
              "    .dataframe thead th {\n",
              "        text-align: right;\n",
              "    }\n",
              "</style>\n",
              "<table border=\"1\" class=\"dataframe\">\n",
              "  <thead>\n",
              "    <tr style=\"text-align: right;\">\n",
              "      <th></th>\n",
              "      <th>rare</th>\n",
              "      <th>name</th>\n",
              "      <th>comment</th>\n",
              "      <th>url</th>\n",
              "    </tr>\n",
              "  </thead>\n",
              "  <tbody>\n",
              "    <tr>\n",
              "      <th>0</th>\n",
              "      <td>SSR</td>\n",
              "      <td>Chris</td>\n",
              "      <td></td>\n",
              "      <td>https://drive.google.com/uc?export=view&amp;id=1Mg...</td>\n",
              "    </tr>\n",
              "    <tr>\n",
              "      <th>1</th>\n",
              "      <td>SSR</td>\n",
              "      <td>Donnis</td>\n",
              "      <td></td>\n",
              "      <td>https://drive.google.com/uc?export=view&amp;id=1ZS...</td>\n",
              "    </tr>\n",
              "    <tr>\n",
              "      <th>2</th>\n",
              "      <td>SSR</td>\n",
              "      <td>大谷遺伝子パト</td>\n",
              "      <td></td>\n",
              "      <td>https://drive.google.com/uc?export=view&amp;id=1T1...</td>\n",
              "    </tr>\n",
              "    <tr>\n",
              "      <th>3</th>\n",
              "      <td>SSR</td>\n",
              "      <td>Vカツ パト</td>\n",
              "      <td></td>\n",
              "      <td>https://drive.google.com/uc?export=view&amp;id=1mj...</td>\n",
              "    </tr>\n",
              "    <tr>\n",
              "      <th>4</th>\n",
              "      <td>SSR</td>\n",
              "      <td>Vカツ ヤタ</td>\n",
              "      <td></td>\n",
              "      <td>https://drive.google.com/uc?export=view&amp;id=1TH...</td>\n",
              "    </tr>\n",
              "    <tr>\n",
              "      <th>5</th>\n",
              "      <td>SSR</td>\n",
              "      <td>Mirrativ パト</td>\n",
              "      <td></td>\n",
              "      <td>https://drive.google.com/uc?export=view&amp;id=19X...</td>\n",
              "    </tr>\n",
              "    <tr>\n",
              "      <th>6</th>\n",
              "      <td>SSR</td>\n",
              "      <td>Mirrativ ヤタ</td>\n",
              "      <td></td>\n",
              "      <td>https://drive.google.com/uc?export=view&amp;id=1_l...</td>\n",
              "    </tr>\n",
              "    <tr>\n",
              "      <th>7</th>\n",
              "      <td>SSR</td>\n",
              "      <td>パトちゃん</td>\n",
              "      <td></td>\n",
              "      <td>https://drive.google.com/uc?export=view&amp;id=1sk...</td>\n",
              "    </tr>\n",
              "    <tr>\n",
              "      <th>8</th>\n",
              "      <td>SSR</td>\n",
              "      <td>ヤタちゃん</td>\n",
              "      <td></td>\n",
              "      <td>https://drive.google.com/uc?export=view&amp;id=1Fv...</td>\n",
              "    </tr>\n",
              "    <tr>\n",
              "      <th>9</th>\n",
              "      <td>SSR</td>\n",
              "      <td>スパプリ</td>\n",
              "      <td>None</td>\n",
              "      <td>https://drive.google.com/uc?export=view&amp;id=1JV...</td>\n",
              "    </tr>\n",
              "    <tr>\n",
              "      <th>10</th>\n",
              "      <td>SR</td>\n",
              "      <td>Pato</td>\n",
              "      <td></td>\n",
              "      <td>https://drive.google.com/uc?export=view&amp;id=1gQ...</td>\n",
              "    </tr>\n",
              "    <tr>\n",
              "      <th>11</th>\n",
              "      <td>SR</td>\n",
              "      <td>Yata</td>\n",
              "      <td></td>\n",
              "      <td>https://drive.google.com/uc?export=view&amp;id=15P...</td>\n",
              "    </tr>\n",
              "    <tr>\n",
              "      <th>12</th>\n",
              "      <td>SR</td>\n",
              "      <td>MaC</td>\n",
              "      <td></td>\n",
              "      <td>https://drive.google.com/uc?export=view&amp;id=1lW...</td>\n",
              "    </tr>\n",
              "    <tr>\n",
              "      <th>13</th>\n",
              "      <td>SR</td>\n",
              "      <td>RINDOU</td>\n",
              "      <td></td>\n",
              "      <td>https://drive.google.com/uc?export=view&amp;id=1VY...</td>\n",
              "    </tr>\n",
              "    <tr>\n",
              "      <th>14</th>\n",
              "      <td>SR</td>\n",
              "      <td>ひつじちゃん</td>\n",
              "      <td></td>\n",
              "      <td>https://drive.google.com/uc?export=view&amp;id=1As...</td>\n",
              "    </tr>\n",
              "    <tr>\n",
              "      <th>15</th>\n",
              "      <td>R</td>\n",
              "      <td>久我</td>\n",
              "      <td></td>\n",
              "      <td>https://drive.google.com/uc?export=view&amp;id=12H...</td>\n",
              "    </tr>\n",
              "    <tr>\n",
              "      <th>16</th>\n",
              "      <td>R</td>\n",
              "      <td>久我弟</td>\n",
              "      <td></td>\n",
              "      <td>https://drive.google.com/uc?export=view&amp;id=16A...</td>\n",
              "    </tr>\n",
              "    <tr>\n",
              "      <th>17</th>\n",
              "      <td>R</td>\n",
              "      <td>久我妹</td>\n",
              "      <td></td>\n",
              "      <td>https://drive.google.com/uc?export=view&amp;id=1H6...</td>\n",
              "    </tr>\n",
              "    <tr>\n",
              "      <th>18</th>\n",
              "      <td>R</td>\n",
              "      <td>久我父</td>\n",
              "      <td></td>\n",
              "      <td>https://drive.google.com/uc?export=view&amp;id=1hP...</td>\n",
              "    </tr>\n",
              "    <tr>\n",
              "      <th>19</th>\n",
              "      <td>R</td>\n",
              "      <td>久我のカブトムシ</td>\n",
              "      <td></td>\n",
              "      <td>https://drive.google.com/uc?export=view&amp;id=1Ft...</td>\n",
              "    </tr>\n",
              "    <tr>\n",
              "      <th>20</th>\n",
              "      <td>R</td>\n",
              "      <td>ほうれん草とベーコンのクリームパスタ</td>\n",
              "      <td></td>\n",
              "      <td>https://drive.google.com/uc?export=view&amp;id=1UI...</td>\n",
              "    </tr>\n",
              "    <tr>\n",
              "      <th>21</th>\n",
              "      <td>R</td>\n",
              "      <td>ナス</td>\n",
              "      <td></td>\n",
              "      <td>https://drive.google.com/uc?export=view&amp;id=1pM...</td>\n",
              "    </tr>\n",
              "    <tr>\n",
              "      <th>22</th>\n",
              "      <td>R</td>\n",
              "      <td>溶かしたヤタ</td>\n",
              "      <td></td>\n",
              "      <td>https://drive.google.com/uc?export=view&amp;id=1IC...</td>\n",
              "    </tr>\n",
              "    <tr>\n",
              "      <th>23</th>\n",
              "      <td>R</td>\n",
              "      <td>ぞうさん</td>\n",
              "      <td></td>\n",
              "      <td>https://drive.google.com/uc?export=view&amp;id=1A_...</td>\n",
              "    </tr>\n",
              "    <tr>\n",
              "      <th>24</th>\n",
              "      <td>R</td>\n",
              "      <td>賞味期限切れの海苔</td>\n",
              "      <td></td>\n",
              "      <td>https://drive.google.com/uc?export=view&amp;id=1zZ...</td>\n",
              "    </tr>\n",
              "    <tr>\n",
              "      <th>25</th>\n",
              "      <td>R</td>\n",
              "      <td>壺おじ</td>\n",
              "      <td></td>\n",
              "      <td>https://drive.google.com/uc?export=view&amp;id=1tw...</td>\n",
              "    </tr>\n",
              "    <tr>\n",
              "      <th>26</th>\n",
              "      <td>R</td>\n",
              "      <td>草</td>\n",
              "      <td></td>\n",
              "      <td>https://drive.google.com/uc?export=view&amp;id=1SN...</td>\n",
              "    </tr>\n",
              "    <tr>\n",
              "      <th>27</th>\n",
              "      <td>R</td>\n",
              "      <td>カラス</td>\n",
              "      <td></td>\n",
              "      <td>https://drive.google.com/uc?export=view&amp;id=1HY...</td>\n",
              "    </tr>\n",
              "    <tr>\n",
              "      <th>28</th>\n",
              "      <td>R</td>\n",
              "      <td>クソ精霊</td>\n",
              "      <td></td>\n",
              "      <td>https://drive.google.com/uc?export=view&amp;id=13J...</td>\n",
              "    </tr>\n",
              "  </tbody>\n",
              "</table>\n",
              "</div>\n",
              "      <button class=\"colab-df-convert\" onclick=\"convertToInteractive('df-248eaa26-31f5-4d8e-a307-5075bc026254')\"\n",
              "              title=\"Convert this dataframe to an interactive table.\"\n",
              "              style=\"display:none;\">\n",
              "        \n",
              "  <svg xmlns=\"http://www.w3.org/2000/svg\" height=\"24px\"viewBox=\"0 0 24 24\"\n",
              "       width=\"24px\">\n",
              "    <path d=\"M0 0h24v24H0V0z\" fill=\"none\"/>\n",
              "    <path d=\"M18.56 5.44l.94 2.06.94-2.06 2.06-.94-2.06-.94-.94-2.06-.94 2.06-2.06.94zm-11 1L8.5 8.5l.94-2.06 2.06-.94-2.06-.94L8.5 2.5l-.94 2.06-2.06.94zm10 10l.94 2.06.94-2.06 2.06-.94-2.06-.94-.94-2.06-.94 2.06-2.06.94z\"/><path d=\"M17.41 7.96l-1.37-1.37c-.4-.4-.92-.59-1.43-.59-.52 0-1.04.2-1.43.59L10.3 9.45l-7.72 7.72c-.78.78-.78 2.05 0 2.83L4 21.41c.39.39.9.59 1.41.59.51 0 1.02-.2 1.41-.59l7.78-7.78 2.81-2.81c.8-.78.8-2.07 0-2.86zM5.41 20L4 18.59l7.72-7.72 1.47 1.35L5.41 20z\"/>\n",
              "  </svg>\n",
              "      </button>\n",
              "      \n",
              "  <style>\n",
              "    .colab-df-container {\n",
              "      display:flex;\n",
              "      flex-wrap:wrap;\n",
              "      gap: 12px;\n",
              "    }\n",
              "\n",
              "    .colab-df-convert {\n",
              "      background-color: #E8F0FE;\n",
              "      border: none;\n",
              "      border-radius: 50%;\n",
              "      cursor: pointer;\n",
              "      display: none;\n",
              "      fill: #1967D2;\n",
              "      height: 32px;\n",
              "      padding: 0 0 0 0;\n",
              "      width: 32px;\n",
              "    }\n",
              "\n",
              "    .colab-df-convert:hover {\n",
              "      background-color: #E2EBFA;\n",
              "      box-shadow: 0px 1px 2px rgba(60, 64, 67, 0.3), 0px 1px 3px 1px rgba(60, 64, 67, 0.15);\n",
              "      fill: #174EA6;\n",
              "    }\n",
              "\n",
              "    [theme=dark] .colab-df-convert {\n",
              "      background-color: #3B4455;\n",
              "      fill: #D2E3FC;\n",
              "    }\n",
              "\n",
              "    [theme=dark] .colab-df-convert:hover {\n",
              "      background-color: #434B5C;\n",
              "      box-shadow: 0px 1px 3px 1px rgba(0, 0, 0, 0.15);\n",
              "      filter: drop-shadow(0px 1px 2px rgba(0, 0, 0, 0.3));\n",
              "      fill: #FFFFFF;\n",
              "    }\n",
              "  </style>\n",
              "\n",
              "      <script>\n",
              "        const buttonEl =\n",
              "          document.querySelector('#df-248eaa26-31f5-4d8e-a307-5075bc026254 button.colab-df-convert');\n",
              "        buttonEl.style.display =\n",
              "          google.colab.kernel.accessAllowed ? 'block' : 'none';\n",
              "\n",
              "        async function convertToInteractive(key) {\n",
              "          const element = document.querySelector('#df-248eaa26-31f5-4d8e-a307-5075bc026254');\n",
              "          const dataTable =\n",
              "            await google.colab.kernel.invokeFunction('convertToInteractive',\n",
              "                                                     [key], {});\n",
              "          if (!dataTable) return;\n",
              "\n",
              "          const docLinkHtml = 'Like what you see? Visit the ' +\n",
              "            '<a target=\"_blank\" href=https://colab.research.google.com/notebooks/data_table.ipynb>data table notebook</a>'\n",
              "            + ' to learn more about interactive tables.';\n",
              "          element.innerHTML = '';\n",
              "          dataTable['output_type'] = 'display_data';\n",
              "          await google.colab.output.renderOutput(dataTable, element);\n",
              "          const docLink = document.createElement('div');\n",
              "          docLink.innerHTML = docLinkHtml;\n",
              "          element.appendChild(docLink);\n",
              "        }\n",
              "      </script>\n",
              "    </div>\n",
              "  </div>\n",
              "  "
            ],
            "text/plain": [
              "   rare  ...                                                url\n",
              "0   SSR  ...  https://drive.google.com/uc?export=view&id=1Mg...\n",
              "1   SSR  ...  https://drive.google.com/uc?export=view&id=1ZS...\n",
              "2   SSR  ...  https://drive.google.com/uc?export=view&id=1T1...\n",
              "3   SSR  ...  https://drive.google.com/uc?export=view&id=1mj...\n",
              "4   SSR  ...  https://drive.google.com/uc?export=view&id=1TH...\n",
              "5   SSR  ...  https://drive.google.com/uc?export=view&id=19X...\n",
              "6   SSR  ...  https://drive.google.com/uc?export=view&id=1_l...\n",
              "7   SSR  ...  https://drive.google.com/uc?export=view&id=1sk...\n",
              "8   SSR  ...  https://drive.google.com/uc?export=view&id=1Fv...\n",
              "9   SSR  ...  https://drive.google.com/uc?export=view&id=1JV...\n",
              "10   SR  ...  https://drive.google.com/uc?export=view&id=1gQ...\n",
              "11   SR  ...  https://drive.google.com/uc?export=view&id=15P...\n",
              "12   SR  ...  https://drive.google.com/uc?export=view&id=1lW...\n",
              "13   SR  ...  https://drive.google.com/uc?export=view&id=1VY...\n",
              "14   SR  ...  https://drive.google.com/uc?export=view&id=1As...\n",
              "15    R  ...  https://drive.google.com/uc?export=view&id=12H...\n",
              "16    R  ...  https://drive.google.com/uc?export=view&id=16A...\n",
              "17    R  ...  https://drive.google.com/uc?export=view&id=1H6...\n",
              "18    R  ...  https://drive.google.com/uc?export=view&id=1hP...\n",
              "19    R  ...  https://drive.google.com/uc?export=view&id=1Ft...\n",
              "20    R  ...  https://drive.google.com/uc?export=view&id=1UI...\n",
              "21    R  ...  https://drive.google.com/uc?export=view&id=1pM...\n",
              "22    R  ...  https://drive.google.com/uc?export=view&id=1IC...\n",
              "23    R  ...  https://drive.google.com/uc?export=view&id=1A_...\n",
              "24    R  ...  https://drive.google.com/uc?export=view&id=1zZ...\n",
              "25    R  ...  https://drive.google.com/uc?export=view&id=1tw...\n",
              "26    R  ...  https://drive.google.com/uc?export=view&id=1SN...\n",
              "27    R  ...  https://drive.google.com/uc?export=view&id=1HY...\n",
              "28    R  ...  https://drive.google.com/uc?export=view&id=13J...\n",
              "\n",
              "[29 rows x 4 columns]"
            ]
          },
          "metadata": {},
          "execution_count": 11
        }
      ]
    },
    {
      "cell_type": "markdown",
      "source": [
        "## gacha"
      ],
      "metadata": {
        "id": "Ub0eI_AqvYSa"
      }
    },
    {
      "cell_type": "code",
      "source": [
        "def get_rare_result(rare, sample_size, proba):\n",
        "  # np.random.seed()\n",
        "  return np.random.choice(a=rare, size=sample_size, p=proba) # TODO: add pickup proba"
      ],
      "metadata": {
        "id": "6pyWDHmZvZUr"
      },
      "execution_count": 12,
      "outputs": []
    },
    {
      "cell_type": "code",
      "source": [
        "def get_items(rare_result, df):\n",
        "  count = Counter(rare_result)\n",
        "  \n",
        "  result = pd.DataFrame([], columns=df.columns)\n",
        "  for rare, count in count.items():\n",
        "    result = pd.concat([result, df[df['rare'] == rare].sample(n=count, replace=True).reset_index()], axis=0)\n",
        "  return result"
      ],
      "metadata": {
        "id": "nmj4mYSY2vQC"
      },
      "execution_count": 13,
      "outputs": []
    },
    {
      "cell_type": "code",
      "source": [
        "def set_params(size):\n",
        "  rare = ['SSR', 'SR', 'R']\n",
        "  # proba = [0.03, 0.18, 0.79]\n",
        "  proba = [0.01, 0.09, 0.90]\n",
        "  sample_size = size\n",
        "\n",
        "  # check proba\n",
        "  cnt = 0\n",
        "  for val in proba:\n",
        "    cnt += val\n",
        "  assert val != 1.0\n",
        "\n",
        "  return rare, proba, sample_size"
      ],
      "metadata": {
        "id": "ZA5jp7f_-adp"
      },
      "execution_count": 14,
      "outputs": []
    },
    {
      "cell_type": "code",
      "source": [
        "def get_concat_h(im1, im2):\n",
        "  dst = Image.new('RGB', (im1.width + im2.width, im1.height))\n",
        "  dst.paste(im1, (0, 0))\n",
        "  dst.paste(im2, (im1.width, 0))\n",
        "  return dst\n",
        "\n",
        "def get_concat_h_multi_blank(im_list):\n",
        "  _im = im_list.pop(0)\n",
        "  for im in im_list:\n",
        "    _im = get_concat_h(_im, im)\n",
        "  return _im\n",
        "\n",
        "def display_images(result, image_list):\n",
        "  img_list = [image_list[int(index)][1] for index in result['index']]\n",
        "  display(get_concat_h_multi_blank(img_list))\n"
      ],
      "metadata": {
        "id": "ODuQtzUEqeUJ"
      },
      "execution_count": 15,
      "outputs": []
    },
    {
      "cell_type": "code",
      "source": [
        "def execute(size):\n",
        "  rare, proba, sample_size =  set_params(size)\n",
        "  rare_result = get_rare_result(rare, sample_size, proba)\n",
        "  result = get_items(rare_result, df)\n",
        "  display_images(result, image_list)\n",
        "  return result"
      ],
      "metadata": {
        "id": "iGiq5kMF-i_Y"
      },
      "execution_count": 25,
      "outputs": []
    },
    {
      "cell_type": "code",
      "source": [
        "cnt = 0\n",
        "np.random.seed()"
      ],
      "metadata": {
        "id": "OtqEnSTsMf1w"
      },
      "execution_count": 28,
      "outputs": []
    },
    {
      "cell_type": "code",
      "source": [
        "result = execute(10)\n",
        "cnt += 1 * 10\n",
        "print(f'現在{cnt}連中')\n",
        "result[['rare', 'name']]"
      ],
      "metadata": {
        "colab": {
          "base_uri": "https://localhost:8080/",
          "height": 505
        },
        "id": "N2gEuqOMBmlL",
        "outputId": "50259ea3-876f-4a17-9a6a-2b5c549d04bc"
      },
      "execution_count": 37,
      "outputs": [
        {
          "output_type": "display_data",
          "data": {
            "image/png": "[encoded data removed]",
            "text/plain": [
              "<PIL.Image.Image image mode=RGB size=1240x124 at 0x7F3C525E1110>"
            ]
          },
          "metadata": {}
        },
        {
          "output_type": "stream",
          "name": "stdout",
          "text": [
            "現在90連中\n"
          ]
        },
        {
          "output_type": "execute_result",
          "data": {
            "text/html": [
              "\n",
              "  <div id=\"df-66cfe3cb-40a9-47e0-9934-b1fc2d5ceca6\">\n",
              "    <div class=\"colab-df-container\">\n",
              "      <div>\n",
              "<style scoped>\n",
              "    .dataframe tbody tr th:only-of-type {\n",
              "        vertical-align: middle;\n",
              "    }\n",
              "\n",
              "    .dataframe tbody tr th {\n",
              "        vertical-align: top;\n",
              "    }\n",
              "\n",
              "    .dataframe thead th {\n",
              "        text-align: right;\n",
              "    }\n",
              "</style>\n",
              "<table border=\"1\" class=\"dataframe\">\n",
              "  <thead>\n",
              "    <tr style=\"text-align: right;\">\n",
              "      <th></th>\n",
              "      <th>rare</th>\n",
              "      <th>name</th>\n",
              "    </tr>\n",
              "  </thead>\n",
              "  <tbody>\n",
              "    <tr>\n",
              "      <th>0</th>\n",
              "      <td>R</td>\n",
              "      <td>久我妹</td>\n",
              "    </tr>\n",
              "    <tr>\n",
              "      <th>1</th>\n",
              "      <td>R</td>\n",
              "      <td>久我弟</td>\n",
              "    </tr>\n",
              "    <tr>\n",
              "      <th>2</th>\n",
              "      <td>R</td>\n",
              "      <td>久我のカブトムシ</td>\n",
              "    </tr>\n",
              "    <tr>\n",
              "      <th>3</th>\n",
              "      <td>R</td>\n",
              "      <td>壺おじ</td>\n",
              "    </tr>\n",
              "    <tr>\n",
              "      <th>4</th>\n",
              "      <td>R</td>\n",
              "      <td>久我父</td>\n",
              "    </tr>\n",
              "    <tr>\n",
              "      <th>5</th>\n",
              "      <td>R</td>\n",
              "      <td>クソ精霊</td>\n",
              "    </tr>\n",
              "    <tr>\n",
              "      <th>6</th>\n",
              "      <td>R</td>\n",
              "      <td>カラス</td>\n",
              "    </tr>\n",
              "    <tr>\n",
              "      <th>7</th>\n",
              "      <td>R</td>\n",
              "      <td>久我妹</td>\n",
              "    </tr>\n",
              "    <tr>\n",
              "      <th>8</th>\n",
              "      <td>R</td>\n",
              "      <td>久我弟</td>\n",
              "    </tr>\n",
              "    <tr>\n",
              "      <th>0</th>\n",
              "      <td>SSR</td>\n",
              "      <td>Vカツ ヤタ</td>\n",
              "    </tr>\n",
              "  </tbody>\n",
              "</table>\n",
              "</div>\n",
              "      <button class=\"colab-df-convert\" onclick=\"convertToInteractive('df-66cfe3cb-40a9-47e0-9934-b1fc2d5ceca6')\"\n",
              "              title=\"Convert this dataframe to an interactive table.\"\n",
              "              style=\"display:none;\">\n",
              "        \n",
              "  <svg xmlns=\"http://www.w3.org/2000/svg\" height=\"24px\"viewBox=\"0 0 24 24\"\n",
              "       width=\"24px\">\n",
              "    <path d=\"M0 0h24v24H0V0z\" fill=\"none\"/>\n",
              "    <path d=\"M18.56 5.44l.94 2.06.94-2.06 2.06-.94-2.06-.94-.94-2.06-.94 2.06-2.06.94zm-11 1L8.5 8.5l.94-2.06 2.06-.94-2.06-.94L8.5 2.5l-.94 2.06-2.06.94zm10 10l.94 2.06.94-2.06 2.06-.94-2.06-.94-.94-2.06-.94 2.06-2.06.94z\"/><path d=\"M17.41 7.96l-1.37-1.37c-.4-.4-.92-.59-1.43-.59-.52 0-1.04.2-1.43.59L10.3 9.45l-7.72 7.72c-.78.78-.78 2.05 0 2.83L4 21.41c.39.39.9.59 1.41.59.51 0 1.02-.2 1.41-.59l7.78-7.78 2.81-2.81c.8-.78.8-2.07 0-2.86zM5.41 20L4 18.59l7.72-7.72 1.47 1.35L5.41 20z\"/>\n",
              "  </svg>\n",
              "      </button>\n",
              "      \n",
              "  <style>\n",
              "    .colab-df-container {\n",
              "      display:flex;\n",
              "      flex-wrap:wrap;\n",
              "      gap: 12px;\n",
              "    }\n",
              "\n",
              "    .colab-df-convert {\n",
              "      background-color: #E8F0FE;\n",
              "      border: none;\n",
              "      border-radius: 50%;\n",
              "      cursor: pointer;\n",
              "      display: none;\n",
              "      fill: #1967D2;\n",
              "      height: 32px;\n",
              "      padding: 0 0 0 0;\n",
              "      width: 32px;\n",
              "    }\n",
              "\n",
              "    .colab-df-convert:hover {\n",
              "      background-color: #E2EBFA;\n",
              "      box-shadow: 0px 1px 2px rgba(60, 64, 67, 0.3), 0px 1px 3px 1px rgba(60, 64, 67, 0.15);\n",
              "      fill: #174EA6;\n",
              "    }\n",
              "\n",
              "    [theme=dark] .colab-df-convert {\n",
              "      background-color: #3B4455;\n",
              "      fill: #D2E3FC;\n",
              "    }\n",
              "\n",
              "    [theme=dark] .colab-df-convert:hover {\n",
              "      background-color: #434B5C;\n",
              "      box-shadow: 0px 1px 3px 1px rgba(0, 0, 0, 0.15);\n",
              "      filter: drop-shadow(0px 1px 2px rgba(0, 0, 0, 0.3));\n",
              "      fill: #FFFFFF;\n",
              "    }\n",
              "  </style>\n",
              "\n",
              "      <script>\n",
              "        const buttonEl =\n",
              "          document.querySelector('#df-66cfe3cb-40a9-47e0-9934-b1fc2d5ceca6 button.colab-df-convert');\n",
              "        buttonEl.style.display =\n",
              "          google.colab.kernel.accessAllowed ? 'block' : 'none';\n",
              "\n",
              "        async function convertToInteractive(key) {\n",
              "          const element = document.querySelector('#df-66cfe3cb-40a9-47e0-9934-b1fc2d5ceca6');\n",
              "          const dataTable =\n",
              "            await google.colab.kernel.invokeFunction('convertToInteractive',\n",
              "                                                     [key], {});\n",
              "          if (!dataTable) return;\n",
              "\n",
              "          const docLinkHtml = 'Like what you see? Visit the ' +\n",
              "            '<a target=\"_blank\" href=https://colab.research.google.com/notebooks/data_table.ipynb>data table notebook</a>'\n",
              "            + ' to learn more about interactive tables.';\n",
              "          element.innerHTML = '';\n",
              "          dataTable['output_type'] = 'display_data';\n",
              "          await google.colab.output.renderOutput(dataTable, element);\n",
              "          const docLink = document.createElement('div');\n",
              "          docLink.innerHTML = docLinkHtml;\n",
              "          element.appendChild(docLink);\n",
              "        }\n",
              "      </script>\n",
              "    </div>\n",
              "  </div>\n",
              "  "
            ],
            "text/plain": [
              "  rare      name\n",
              "0    R       久我妹\n",
              "1    R       久我弟\n",
              "2    R  久我のカブトムシ\n",
              "3    R       壺おじ\n",
              "4    R       久我父\n",
              "5    R      クソ精霊\n",
              "6    R       カラス\n",
              "7    R       久我妹\n",
              "8    R       久我弟\n",
              "0  SSR    Vカツ ヤタ"
            ]
          },
          "metadata": {},
          "execution_count": 37
        }
      ]
    },
    {
      "cell_type": "code",
      "source": [
        ""
      ],
      "metadata": {
        "id": "H7eqEllqnG1-"
      },
      "execution_count": null,
      "outputs": []
    }
  ]
}